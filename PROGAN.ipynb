{
 "cells": [
  {
   "cell_type": "code",
   "execution_count": 2,
   "id": "381955bd-dd0d-4030-8f26-a68ad95ea161",
   "metadata": {},
   "outputs": [],
   "source": [
    "import tensorflow as tf\n",
    "import tensorflow.keras as K"
   ]
  },
  {
   "cell_type": "code",
   "execution_count": 3,
   "id": "c914619b-2425-43d5-897a-d044b319a188",
   "metadata": {},
   "outputs": [],
   "source": [
    "def upscale_layer(layer, upscale_factor):\n",
    "    '''\n",
    "    int 만큼 layer(tensor)를 업스케일 합니다.\n",
    "    텐서 크기 : [group, height, width, channels]\n",
    "    '''\n",
    "    height, width = layer.get_shape()[1:3]\n",
    "    size = (upscale_factor * height, upscale_factor * width)\n",
    "    upscaled_layer = tf.image.resize_nearest_neighbor(layer, size)\n",
    "    return upscale_layer"
   ]
  },
  {
   "cell_type": "code",
   "execution_count": 4,
   "id": "55a203b8-0498-484b-852d-63e4cfc5136e",
   "metadata": {},
   "outputs": [],
   "source": [
    "def smoothly_merge_last_layer(list_of_layers, alpha):\n",
    "    '''\n",
    "    임계값 알파를 기반으로 층을 부드럽게 합침.\n",
    "    이 합수는 모든 층이 이미 RGB로 바뀌었다고 가정함.\n",
    "    생성자를 위한 함수.\n",
    "    list_of_layers : 크기 순서대로 정렬된 텐서 리스트\n",
    "    alpha : (0,1) 사이의 실수\n",
    "    '''\n",
    "    last_fully_trained_layer = list_of_layers[-2]\n",
    "    last_layer_upscaled = upscale_later(last_fully_trained_layer, 2)\n",
    "    larger_native_layer = list_of_layers[-1]\n",
    "    \n",
    "    assert larger_native_layer.get_shape() == last_layer_upscaled.get_shape()\n",
    "    \n",
    "    new_layer = (1-alpha) * last_layer_upscaled + larger_native_layer * alpha\n",
    "    \n",
    "    return new_layer\n",
    "    "
   ]
  },
  {
   "cell_type": "code",
   "execution_count": 5,
   "id": "906e6e8b-b29c-4a97-a0a3-01febb37c2f9",
   "metadata": {},
   "outputs": [],
   "source": [
    "def minibatch_std_layer(layer, group_size=4):\n",
    "    '''\n",
    "    층의 미니배치 표준편차를 계산함.\n",
    "    층의 데이터 타입은 float32로 가정. 아니라면 타입 변환.\n",
    "    '''\n",
    "    group_size = K.backend.minimum(group_size, tf.shape(layer)[0])\n",
    "    shape = list(K.int_shape(input))\n",
    "    shape[0] = tf.shape(input)[0]\n",
    "    minibatch = K.backend.reshape(layer, (group_size, -1, shape[1], shape[2], shape[3]))\n",
    "    \n",
    "    minibatch -= tf.reduce_mean(minibatch, axis=0, keepdims=True)\n",
    "    minibatch = tf.reduce_mean(K.backend.square(minibatch), axis=0)\n",
    "    minibatch = K.backend.square(minibatch + 1e-8)\n",
    "    minibatch = tr.reduce_mean(minibatch, axis=[1,2,3], keepdims=True)\n",
    "    \n",
    "    minibatch = K.backend.tile(minibatch, [group_size, 1, shape[2], shape[3]])\n",
    "    return K.backend.concatenate([layer, minibatch], axis=1)"
   ]
  },
  {
   "cell_type": "code",
   "execution_count": null,
   "id": "88d27da7-c343-41b6-a6dd-2cbea895a3e1",
   "metadata": {},
   "outputs": [],
   "source": []
  }
 ],
 "metadata": {
  "kernelspec": {
   "display_name": "Python 3 (ipykernel)",
   "language": "python",
   "name": "python3"
  },
  "language_info": {
   "codemirror_mode": {
    "name": "ipython",
    "version": 3
   },
   "file_extension": ".py",
   "mimetype": "text/x-python",
   "name": "python",
   "nbconvert_exporter": "python",
   "pygments_lexer": "ipython3",
   "version": "3.8.13"
  }
 },
 "nbformat": 4,
 "nbformat_minor": 5
}
